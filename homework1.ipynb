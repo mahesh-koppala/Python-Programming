{
 "cells": [
  {
   "cell_type": "markdown",
   "metadata": {},
   "source": [
    " Problem-1"
   ]
  },
  {
   "cell_type": "code",
   "execution_count": 1,
   "metadata": {},
   "outputs": [],
   "source": [
    "def calculateInterest(principal_amount,interest_rate,years):\n",
    "    Interest_amount=(principal_amount*interest_rate*years)/100\n",
    "    return interest_amount"
   ]
  },
  {
   "cell_type": "code",
   "execution_count": 2,
   "metadata": {},
   "outputs": [
    {
     "data": {
      "text/plain": [
       "800.0"
      ]
     },
     "execution_count": 2,
     "metadata": {},
     "output_type": "execute_result"
    }
   ],
   "source": [
    "calculateInterest(1000.00, 8.0, 10)"
   ]
  },
  {
   "cell_type": "code",
   "execution_count": 3,
   "metadata": {},
   "outputs": [
    {
     "data": {
      "text/plain": [
       "225.0"
      ]
     },
     "execution_count": 3,
     "metadata": {},
     "output_type": "execute_result"
    }
   ],
   "source": [
    "calculateInterest(500, 9.00, 5)"
   ]
  },
  {
   "cell_type": "markdown",
   "metadata": {},
   "source": [
    "Problem-2"
   ]
  },
  {
   "cell_type": "code",
   "execution_count": 2,
   "metadata": {},
   "outputs": [
    {
     "name": "stdout",
     "output_type": "stream",
     "text": [
      "Enter a positive integer5\n",
      "0\n",
      "\n",
      "5\n",
      "\n",
      "10\n",
      "\n",
      "15\n",
      "\n"
     ]
    }
   ],
   "source": [
    "n=int(input(\"Enter a positive integer\"))\n",
    "for i in range(0,4):\n",
    "    print(n*i)\n",
    "    print()"
   ]
  },
  {
   "cell_type": "markdown",
   "metadata": {},
   "source": [
    " Problem-3\n"
   ]
  },
  {
   "cell_type": "code",
   "execution_count": 9,
   "metadata": {},
   "outputs": [],
   "source": [
    "def leap(year):\n",
    "    if year%4 ==0:\n",
    "        if year%100 == 0:\n",
    "            if year%400 == 0:\n",
    "                return True\n",
    "            else:\n",
    "                return False\n",
    "        else:\n",
    "            return True\n",
    "    else:\n",
    "        return False\n",
    "    "
   ]
  },
  {
   "cell_type": "code",
   "execution_count": 10,
   "metadata": {},
   "outputs": [
    {
     "data": {
      "text/plain": [
       "True"
      ]
     },
     "execution_count": 10,
     "metadata": {},
     "output_type": "execute_result"
    }
   ],
   "source": [
    "leap(2008)"
   ]
  },
  {
   "cell_type": "code",
   "execution_count": 11,
   "metadata": {},
   "outputs": [
    {
     "data": {
      "text/plain": [
       "False"
      ]
     },
     "execution_count": 11,
     "metadata": {},
     "output_type": "execute_result"
    }
   ],
   "source": [
    "leap(1900)"
   ]
  },
  {
   "cell_type": "code",
   "execution_count": 12,
   "metadata": {},
   "outputs": [
    {
     "data": {
      "text/plain": [
       "True"
      ]
     },
     "execution_count": 12,
     "metadata": {},
     "output_type": "execute_result"
    }
   ],
   "source": [
    "leap(2000)"
   ]
  },
  {
   "cell_type": "markdown",
   "metadata": {},
   "source": [
    "Problem-4"
   ]
  },
  {
   "cell_type": "code",
   "execution_count": null,
   "metadata": {},
   "outputs": [],
   "source": [
    "def statement(list):\n",
    "    deposits=0\n",
    "    withdrawals = 0        \n",
    "    list_result=[]\n",
    "    for ele in list:\n",
    "        if ele>=0:\n",
    "            deposits+=ele\n",
    "        else:\n",
    "            withdrawals+=ele\n",
    "            \n",
    "    list_result.append(deposits)\n",
    "    list_result.append(withdrawals)\n",
    "    return list_result"
   ]
  },
  {
   "cell_type": "code",
   "execution_count": null,
   "metadata": {},
   "outputs": [],
   "source": [
    "statement([30.95, -15.67, 45.56, -55.00, 43.78])"
   ]
  },
  {
   "cell_type": "markdown",
   "metadata": {},
   "source": [
    "Problem-5"
   ]
  },
  {
   "cell_type": "code",
   "execution_count": 3,
   "metadata": {},
   "outputs": [
    {
     "name": "stdout",
     "output_type": "stream",
     "text": [
      "Enter x1 :1\n",
      "Enter y1 :3\n",
      "Enter x2 :10\n",
      "Enter y2 :6\n",
      "Enter x :4\n",
      "Enter y :2\n",
      "False\n"
     ]
    }
   ],
   "source": [
    "x1=int(input(\"Enter x1 :\"))\n",
    "y1=int(input(\"Enter y1 :\"))\n",
    "x2=int(input(\"Enter x2 :\"))\n",
    "y2=int(input(\"Enter y2 :\"))\n",
    "x=int(input(\"Enter x :\"))\n",
    "y=int(input(\"Enter y :\"))\n",
    "print(x1<=x<=x2 and y1<=y<=y2)"
   ]
  },
  {
   "cell_type": "markdown",
   "metadata": {},
   "source": [
    " Problem-6"
   ]
  },
  {
   "cell_type": "code",
   "execution_count": 8,
   "metadata": {},
   "outputs": [],
   "source": [
    "def password_check(new_password,old_password):\n",
    "    string_1=new_password.lower()\n",
    "    string_2=old_password.lower()\n",
    "    if string_1!= string_2 and len(string_1)>=6:\n",
    "        return True\n",
    "    else:\n",
    "        return False"
   ]
  },
  {
   "cell_type": "code",
   "execution_count": 9,
   "metadata": {},
   "outputs": [
    {
     "data": {
      "text/plain": [
       "True"
      ]
     },
     "execution_count": 9,
     "metadata": {},
     "output_type": "execute_result"
    }
   ],
   "source": [
    "password_check('E10-s2ff', 'E10.s2ff')"
   ]
  },
  {
   "cell_type": "code",
   "execution_count": 10,
   "metadata": {},
   "outputs": [
    {
     "data": {
      "text/plain": [
       "False"
      ]
     },
     "execution_count": 10,
     "metadata": {},
     "output_type": "execute_result"
    }
   ],
   "source": [
    "password_check('E10sf', 'E10.s2ff')"
   ]
  },
  {
   "cell_type": "code",
   "execution_count": 11,
   "metadata": {},
   "outputs": [
    {
     "data": {
      "text/plain": [
       "False"
      ]
     },
     "execution_count": 11,
     "metadata": {},
     "output_type": "execute_result"
    }
   ],
   "source": [
    "password_check('E10-s2ff', 'E10-s2ff')"
   ]
  },
  {
   "cell_type": "markdown",
   "metadata": {},
   "source": [
    "Problem-7"
   ]
  },
  {
   "cell_type": "code",
   "execution_count": 13,
   "metadata": {
    "scrolled": true
   },
   "outputs": [
    {
     "name": "stdout",
     "output_type": "stream",
     "text": [
      "Enter first string:hello\n",
      "Enter second string:tom\n",
      "Enter third string:hellotom\n",
      "They are equal\n"
     ]
    }
   ],
   "source": [
    "first_string=input(\"Enter first string:\")\n",
    "second_string=input(\"Enter second string:\")\n",
    "third_string=input(\"Enter third string:\")\n",
    "string_result=first_string + second_string\n",
    "if string_result == third_string:\n",
    "    print(\"They are equal\")\n",
    "else:\n",
    "    print(\"They are not equal\") "
   ]
  },
  {
   "cell_type": "markdown",
   "metadata": {},
   "source": [
    " Problem-8"
   ]
  },
  {
   "cell_type": "code",
   "execution_count": 9,
   "metadata": {},
   "outputs": [],
   "source": [
    "def interest(I):  \n",
    "    interest_rate = I\n",
    "    years=0\n",
    "    investment=1\n",
    "    while investment<2:\n",
    "        years=years+1\n",
    "        investment=(investment*(1+interest_rate))\n",
    "    if investment>=2:\n",
    "        print (years)"
   ]
  },
  {
   "cell_type": "code",
   "execution_count": 11,
   "metadata": {},
   "outputs": [
    {
     "name": "stdout",
     "output_type": "stream",
     "text": [
      "11\n"
     ]
    }
   ],
   "source": [
    "interest(0.07)"
   ]
  },
  {
   "cell_type": "markdown",
   "metadata": {},
   "source": [
    " Problem-9"
   ]
  },
  {
   "cell_type": "code",
   "execution_count": 14,
   "metadata": {},
   "outputs": [],
   "source": [
    "def approxPIsquared(error):\n",
    "    sum=0\n",
    "    i=1\n",
    "    while True:\n",
    "        temp=sum\n",
    "        sum+=(8/(i**2))\n",
    "        i+=2\n",
    "        if sum-temp < error:\n",
    "            break\n",
    "            \n",
    "    return sum\n",
    "    "
   ]
  },
  {
   "cell_type": "code",
   "execution_count": 15,
   "metadata": {},
   "outputs": [
    {
     "data": {
      "text/plain": [
       "9.855519952254232"
      ]
     },
     "execution_count": 15,
     "metadata": {},
     "output_type": "execute_result"
    }
   ],
   "source": [
    "approxPIsquared(0.0001)"
   ]
  },
  {
   "cell_type": "code",
   "execution_count": 16,
   "metadata": {},
   "outputs": [
    {
     "data": {
      "text/plain": [
       "9.869462988376474"
      ]
     },
     "execution_count": 16,
     "metadata": {},
     "output_type": "execute_result"
    }
   ],
   "source": [
    "approxPIsquared(0.00000001)"
   ]
  },
  {
   "cell_type": "markdown",
   "metadata": {},
   "source": [
    "Problem 10"
   ]
  },
  {
   "cell_type": "code",
   "execution_count": 1,
   "metadata": {},
   "outputs": [
    {
     "name": "stdout",
     "output_type": "stream",
     "text": [
      "Enter x:2.5\n",
      "Enter y:4\n",
      "It is in!\n"
     ]
    }
   ],
   "source": [
    "import math\n",
    "x=eval(input(\"Enter x:\"))\n",
    "y=eval(input(\"Enter y:\"))\n",
    "radius=8\n",
    "result=math.sqrt((x**2)+(y**2))\n",
    "if result<=radius:\n",
    "    print(\"It is in!\")\n",
    "else:\n",
    "    print(\"it is not in\")"
   ]
  }
 ],
 "metadata": {
  "kernelspec": {
   "display_name": "Python 3",
   "language": "python",
   "name": "python3"
  },
  "language_info": {
   "codemirror_mode": {
    "name": "ipython",
    "version": 3
   },
   "file_extension": ".py",
   "mimetype": "text/x-python",
   "name": "python",
   "nbconvert_exporter": "python",
   "pygments_lexer": "ipython3",
   "version": "3.6.10"
  }
 },
 "nbformat": 4,
 "nbformat_minor": 2
}
